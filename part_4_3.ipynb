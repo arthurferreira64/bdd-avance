{
 "cells": [
  {
   "cell_type": "markdown",
   "metadata": {},
   "source": [
    "## Connexion postgres"
   ]
  },
  {
   "cell_type": "code",
   "execution_count": 1,
   "metadata": {},
   "outputs": [],
   "source": [
    "import os\n",
    "from dotenv import load_dotenv\n",
    "import psycopg2\n",
    "\n",
    "# Charger les variables d'environnement depuis le fichier .env\n",
    "load_dotenv(\".env\")\n",
    "\n",
    "USER_PSQL = os.environ.get(\"POSTGRESQL_LOCAL_USER\")\n",
    "PASSWORD_PSQL = os.environ.get(\"POSTGRESQL_LOCAL_PASSWORD\")\n",
    "\n",
    "# Se connecter à la base de données PostgreSQL\n",
    "conn = psycopg2.connect(user=USER_PSQL, password=PASSWORD_PSQL, host=\"localhost\", port=\"5432\", database=\"app_auth\")\n",
    "cursor = conn.cursor()"
   ]
  },
  {
   "cell_type": "markdown",
   "metadata": {},
   "source": [
    "## Création de la table username_history_from_app"
   ]
  },
  {
   "cell_type": "code",
   "execution_count": 2,
   "metadata": {},
   "outputs": [],
   "source": [
    "create_table_script = \"\"\"\n",
    "CREATE TABLE IF NOT EXISTS username_history_from_app (\n",
    "    history_id SERIAL PRIMARY KEY,\n",
    "    user_id INT REFERENCES \"user\" (user_id),\n",
    "    username_new VARCHAR(255)\n",
    ");\n",
    "\"\"\"\n",
    "cursor.execute(create_table_script)\n",
    "conn.commit()"
   ]
  },
  {
   "cell_type": "markdown",
   "metadata": {},
   "source": [
    "## Comparaison des Temps d'Exécution"
   ]
  },
  {
   "cell_type": "code",
   "execution_count": 3,
   "metadata": {},
   "outputs": [
    {
     "name": "stdout",
     "output_type": "stream",
     "text": [
      "pour 100 éditions:\n",
      "Avec trigger: 0.07626104354858398 s\n",
      "Sans trigger: 0.10744118690490723 s\n",
      "pour 1000 éditions:\n",
      "Avec trigger: 1.0237491130828857 s\n",
      "Sans trigger: 1.355050802230835 s\n",
      "pour 10000 éditions:\n",
      "Avec trigger: 9.059243202209473 s\n",
      "Sans trigger: 11.081467390060425 s\n"
     ]
    }
   ],
   "source": [
    "import time\n",
    "\n",
    "user_id = 2047  \n",
    "\n",
    "def update_username_history(new_username):\n",
    "    start = time.time()\n",
    "    cursor = conn.cursor()\n",
    "    \n",
    "    insert_query = f\"INSERT INTO username_history (user_id, username_new) VALUES (%s, %s)\"\n",
    "    cursor.execute(insert_query, (user_id, new_username))\n",
    "\n",
    "    conn.commit()\n",
    "    end = time.time()\n",
    "\n",
    "    total = end - start\n",
    "    return total\n",
    "\n",
    "def update_user_with_trigger(new_username):\n",
    "    start = time.time()\n",
    "    cursor = conn.cursor()\n",
    "\n",
    "    update_query = f\"UPDATE username_history_from_app SET username_new = %s WHERE user_id = %s\"\n",
    "    cursor.execute(update_query, (new_username, user_id))\n",
    "\n",
    "    conn.commit()\n",
    "    end = time.time()\n",
    "    total = end - start\n",
    "\n",
    "    return total\n",
    "\n",
    "\n",
    "def main():\n",
    "    \n",
    "    for num_edits in [100, 1000, 10000]:\n",
    "\n",
    "        time_query_with_trigger = sum(update_user_with_trigger(f\"username{i}\") for i in range(num_edits))\n",
    "\n",
    "        time_query_without_trigger = sum(update_username_history(f\"username{i}\") for i in range(num_edits))\n",
    "\n",
    "\n",
    "        print(f\"pour {num_edits} éditions:\")\n",
    "        print(f\"Avec trigger: {time_query_with_trigger} s\")\n",
    "        print(f\"Sans trigger: {time_query_without_trigger} s\")\n",
    "\n",
    "main()"
   ]
  }
 ],
 "metadata": {
  "kernelspec": {
   "display_name": "Python 3",
   "language": "python",
   "name": "python3"
  },
  "language_info": {
   "codemirror_mode": {
    "name": "ipython",
    "version": 3
   },
   "file_extension": ".py",
   "mimetype": "text/x-python",
   "name": "python",
   "nbconvert_exporter": "python",
   "pygments_lexer": "ipython3",
   "version": "3.11.2"
  }
 },
 "nbformat": 4,
 "nbformat_minor": 2
}
