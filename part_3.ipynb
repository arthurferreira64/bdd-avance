{
 "cells": [
  {
   "cell_type": "markdown",
   "metadata": {},
   "source": [
    "## Connexion postgres"
   ]
  },
  {
   "cell_type": "code",
   "execution_count": 9,
   "metadata": {},
   "outputs": [],
   "source": [
    "import os\n",
    "from dotenv import load_dotenv\n",
    "import psycopg2\n",
    "\n",
    "# Charger les variables d'environnement depuis le fichier .env\n",
    "load_dotenv(\".env\")\n",
    "\n",
    "USER_PSQL = os.environ.get(\"POSTGRESQL_LOCAL_USER\")\n",
    "PASSWORD_PSQL = os.environ.get(\"POSTGRESQL_LOCAL_PASSWORD\")\n",
    "\n",
    "# Se connecter à la base de données PostgreSQL\n",
    "conn = psycopg2.connect(user=USER_PSQL, password=PASSWORD_PSQL, host=\"localhost\", port=\"5432\", database=\"app_auth\")\n",
    "cursor = conn.cursor()"
   ]
  },
  {
   "cell_type": "markdown",
   "metadata": {},
   "source": [
    "## Création de la table"
   ]
  },
  {
   "cell_type": "code",
   "execution_count": 3,
   "metadata": {},
   "outputs": [],
   "source": [
    "\n",
    "create_table = f'CREATE TABLE \"user_for_comparison\" (' \\\n",
    "   f' user_id INT PRIMARY KEY,' \\\n",
    "    f'firstname VARCHAR(255),' \\\n",
    "    f'lastname VARCHAR(255),' \\\n",
    "    f'email VARCHAR(255) UNIQUE,' \\\n",
    "    f'username VARCHAR(255) UNIQUE CHECK(LENGTH(username) > 8),' \\\n",
    "    f'password VARCHAR(255) CHECK(LENGTH(password) > 8),' \\\n",
    "   f' created_at TIMESTAMP);' \n",
    "\n",
    "cursor.execute(create_table)"
   ]
  },
  {
   "cell_type": "markdown",
   "metadata": {},
   "source": [
    "## Création des 100 000 utilisateurs pour comparaison"
   ]
  },
  {
   "cell_type": "code",
   "execution_count": 4,
   "metadata": {},
   "outputs": [],
   "source": [
    "import time\n",
    "import random\n",
    "from faker import Faker\n",
    "from psycopg2.extras import execute_batch\n",
    "\n",
    "\n",
    "# Fonction pour générer une date aléatoire dans une plage\n",
    "def random_date(start, end, prop):\n",
    "    stime = time.mktime(time.strptime(start, '%m/%d/%Y %I:%M %p'))\n",
    "    etime = time.mktime(time.strptime(end, '%m/%d/%Y %I:%M %p'))\n",
    "    ptime = stime + prop * (etime - stime)\n",
    "    \n",
    "    # Utiliser le format ISO 8601 pour la date/heure\n",
    "    return time.strftime('%Y-%m-%d %H:%M:%S', time.localtime(ptime))\n",
    "\n",
    "# Utiliser Faker pour générer des données aléatoires\n",
    "fake = Faker()\n",
    "\n",
    "# Dates de début et de fin pour la période\n",
    "start_date = \"01/01/2023 12:00 AM\"\n",
    "end_date = \"06/30/2023 11:59 PM\"\n",
    "\n",
    "total_users = 100000\n",
    "batch_size = 1000\n",
    "cpt = 1\n",
    "\n",
    "\n",
    "# Générer et insérer les utilisateurs avec des données crédibles\n",
    "user_data = []\n",
    "for _ in range(total_users):\n",
    "    print(cpt)\n",
    "    first_name = fake.first_name()\n",
    "    last_name = fake.last_name()\n",
    "\n",
    "      # Générer un nom d'utilisateur avec au moins 8 caractères\n",
    "    while True:\n",
    "        username = fake.unique.user_name()\n",
    "        # Exécuter la requête SELECT pour vérifier si le nom d'utilisateur est déjà utilisé\n",
    "    \n",
    "        if len(username) > 8:\n",
    "            break\n",
    "\n",
    "\n",
    " \n",
    "    email = fake.unique.email()\n",
    "        \n",
    "\n",
    "    # Générer un nom de mot de passe avec au moins 8 caractères\n",
    "    while True:\n",
    "        password = fake.password()\n",
    "        if len(password) > 8:\n",
    "            break\n",
    "\n",
    "    # Générer une date de création aléatoire dans la période spécifiée\n",
    "    created_at = random_date(start_date, end_date, random.random())\n",
    "\n",
    "    # Ajouter les données à la liste\n",
    "    user_data.append({\n",
    "        'user_id': cpt,\n",
    "        'first_name': first_name,\n",
    "        'last_name': last_name,\n",
    "        'email': email,\n",
    "        'username': username,\n",
    "        'password': password,\n",
    "        'created_at': created_at\n",
    "    })\n",
    "\n",
    "    # Incrémenter le compteur pour le user_id\n",
    "    cpt += 1\n",
    "\n",
    "    # Si la taille de la liste atteint le batch_size, insérer le lot dans la base de données\n",
    "    if len(user_data) >= batch_size:\n",
    "        execute_batch(cursor, \"\"\"\n",
    "            INSERT INTO \"user_for_comparison\" (user_id, firstname, lastname, email, username, password, created_at)\n",
    "            VALUES (%(user_id)s, %(first_name)s, %(last_name)s, %(email)s, %(username)s, %(password)s, %(created_at)s);\n",
    "        \"\"\", user_data)\n",
    "        user_data = []\n",
    "\n",
    "# Si des données restent dans la liste, insérer le dernier lot\n",
    "if user_data:\n",
    "    execute_batch(cursor, \"\"\"\n",
    "        INSERT INTO \"user_for_comparison\" (user_id, firstname, lastname, email, username, password, created_at)\n",
    "        VALUES (%(user_id)s, %(first_name)s, %(last_name)s, %(email)s, %(username)s, %(password)s, %(created_at)s);\n",
    "    \"\"\", user_data)\n",
    "\n",
    "\n",
    "# Valider les changements\n",
    "conn.commit()\n"
   ]
  },
  {
   "cell_type": "code",
   "execution_count": 5,
   "metadata": {},
   "outputs": [
    {
     "name": "stdout",
     "output_type": "stream",
     "text": [
      "Temps d'exécution pour leejessica:\n",
      "379 µs ± 0 ns per loop (mean ± std. dev. of 1 run, 1,000 loops each)\n",
      "Temps d'exécution pour peterdougherty:\n",
      "406 µs ± 0 ns per loop (mean ± std. dev. of 1 run, 1,000 loops each)\n",
      "Temps d'exécution pour victoria59:\n",
      "363 µs ± 0 ns per loop (mean ± std. dev. of 1 run, 1,000 loops each)\n",
      "Temps d'exécution pour lopezpaul:\n",
      "393 µs ± 0 ns per loop (mean ± std. dev. of 1 run, 1,000 loops each)\n",
      "Temps d'exécution pour petersencasey:\n",
      "444 µs ± 0 ns per loop (mean ± std. dev. of 1 run, 1,000 loops each)\n"
     ]
    }
   ],
   "source": [
    "# Récupérer 10 utilisateurs de la table\n",
    "cursor.execute('SELECT username FROM \"user_for_comparison\" LIMIT 5')\n",
    "usernames_to_query = [row[0] for row in cursor.fetchall()]\n",
    "\n",
    "for username in usernames_to_query:\n",
    "    # Créer un nouveau curseur à chaque itération\n",
    "    cursor = conn.cursor()\n",
    "\n",
    "    query = f\"SELECT * FROM user_for_comparison WHERE username = '{username}'\"\n",
    "\n",
    "    print(f\"Temps d'exécution pour {username}:\")\n",
    "    %timeit -r 1 -o cursor.execute(query) \n",
    "\n",
    "    results = cursor.fetchall()\n",
    "\n",
    "    # Fermer le curseur après chaque itération\n",
    "    cursor.close()\n"
   ]
  },
  {
   "cell_type": "code",
   "execution_count": 6,
   "metadata": {},
   "outputs": [],
   "source": [
    "cursor = conn.cursor()\n",
    "\n",
    "cursor.execute(\"CREATE INDEX idx_username ON user_for_comparison (username);\")\n",
    "conn.commit()\n"
   ]
  },
  {
   "cell_type": "code",
   "execution_count": 10,
   "metadata": {},
   "outputs": [
    {
     "name": "stdout",
     "output_type": "stream",
     "text": [
      "Temps d'exécution pour leejessica:\n",
      "492 µs ± 0 ns per loop (mean ± std. dev. of 1 run, 1,000 loops each)\n",
      "Temps d'exécution pour peterdougherty:\n",
      "541 µs ± 0 ns per loop (mean ± std. dev. of 1 run, 1,000 loops each)\n",
      "Temps d'exécution pour victoria59:\n",
      "870 µs ± 0 ns per loop (mean ± std. dev. of 1 run, 1,000 loops each)\n",
      "Temps d'exécution pour lopezpaul:\n",
      "632 µs ± 0 ns per loop (mean ± std. dev. of 1 run, 1,000 loops each)\n",
      "Temps d'exécution pour petersencasey:\n",
      "724 µs ± 0 ns per loop (mean ± std. dev. of 1 run, 1,000 loops each)\n"
     ]
    }
   ],
   "source": [
    "# Récupérer 10 utilisateurs de la table\n",
    "cursor.execute('SELECT username FROM \"user_for_comparison\" LIMIT 5')\n",
    "usernames_to_query = [row[0] for row in cursor.fetchall()]\n",
    "\n",
    "for username in usernames_to_query:\n",
    "    # Créer un nouveau curseur à chaque itération\n",
    "    cursor = conn.cursor()\n",
    "\n",
    "    query = f\"SELECT * FROM user_for_comparison WHERE username = '{username}'\"\n",
    "\n",
    "    print(f\"Temps d'exécution pour {username}:\")\n",
    "    %timeit -r 1 -o cursor.execute(query) \n",
    "\n",
    "    results = cursor.fetchall()\n"
   ]
  },
  {
   "cell_type": "markdown",
   "metadata": {},
   "source": [
    "## Fermer le curseur et la connexion"
   ]
  },
  {
   "cell_type": "code",
   "execution_count": 11,
   "metadata": {},
   "outputs": [],
   "source": [
    "# Fermer le curseur et la connexion\n",
    "cursor.close()\n",
    "conn.close()"
   ]
  }
 ],
 "metadata": {
  "kernelspec": {
   "display_name": "Python 3",
   "language": "python",
   "name": "python3"
  },
  "language_info": {
   "codemirror_mode": {
    "name": "ipython",
    "version": 3
   },
   "file_extension": ".py",
   "mimetype": "text/x-python",
   "name": "python",
   "nbconvert_exporter": "python",
   "pygments_lexer": "ipython3",
   "version": "3.11.2"
  }
 },
 "nbformat": 4,
 "nbformat_minor": 2
}
